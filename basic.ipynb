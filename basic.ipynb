{
 "cells": [
  {
   "cell_type": "markdown",
   "metadata": {},
   "source": [
    "# Basic search\n",
    "\n",
    "Here's the scenario: **I want to search for free-to-use color posters from the Library of Congress and display the results**.\n",
    "\n",
    "We can start by looking within the Library's [Artist Posters](https://www.loc.gov/collections/artists-posters/about-this-collection/) Collection.\n",
    "\n",
    "## Building the URL\n",
    "\n",
    "In order to perform a JSON request, you will need to have a URL for that request. Luckily, it's quite straightforward to build it! In the case of the Artist Posters collection, the default URL is:\n",
    "\n",
    "```\n",
    "https://www.loc.gov/collections/artists-posters/\n",
    "```\n",
    "\n",
    "Which can be converted to a JSON url by simply adding a parameter:\n",
    "\n",
    "```\n",
    "https://www.loc.gov/collections/artists-posters/?fo=json\n",
    "```\n",
    "\n",
    "You can add this parameter to any faceted search on loc.gov. For example, this searches within the Artist Posters collection for the keyword \"color\" and filters by date (between 1800 and 1925) and location (United States) to only include images that are in the public domain due to copyright expiration.\n",
    "\n",
    "```\n",
    "https://www.loc.gov/collections/artists-posters/?q=color&dates=1800/1925&fa=location:united+states&fo=json\n",
    "```\n",
    "\n",
    "Now that we have the URL, we can get started with the code!\n",
    "\n",
    "## Making a simple JSON request\n",
    "\n",
    "First let's import the required libraries"
   ]
  },
  {
   "cell_type": "code",
   "execution_count": 1,
   "metadata": {},
   "outputs": [],
   "source": [
    "import requests                 # for making http requests\n",
    "from tabulate import tabulate   # for printing pretty tables"
   ]
  },
  {
   "cell_type": "markdown",
   "metadata": {},
   "source": [
    "Now let's set our URL, make a simple JSON request, and print a summary of the first 10 results."
   ]
  },
  {
   "cell_type": "code",
   "execution_count": 2,
   "metadata": {},
   "outputs": [
    {
     "name": "stdout",
     "output_type": "stream",
     "text": [
      "title                                                                                                                        date        unrestricted    url\n",
      "---------------------------------------------------------------------------------------------------------------------------  ----------  --------------  ------------------------------------\n",
      "Clear                                                                                                                        1910-01-01  True            https://www.loc.gov/item/94506728/\n",
      "Keating cycles. 365 days ahead of them all                                                                                   1890-01-01  True            https://www.loc.gov/item/94508248/\n",
      "The Prudent buyer selects the Shirk, the latest, neatest, and lightest bicycle in the world                                  1890-01-01  True            https://www.loc.gov/item/94510053/\n",
      "Sterling cycles. Built like a watch                                                                                          1900-01-01  True            https://www.loc.gov/item/94508251/\n",
      "Uncle Sam says \"Enlist for college\" The student loan fund is for the aid of Methodist college students /                     1917-01-01  True            https://www.loc.gov/item/97516054/\n",
      "I want you for the Navy promotion for anyone enlisting, apply any recruiting station or postmaster /                         1917-01-01  True            https://www.loc.gov/item/92510150/\n",
      "Tome                                                                                                                         1905-01-01  True            https://www.loc.gov/item/94506755/\n",
      "The past is behind us, the future is ahead. Let us all strive to make the future better and brighter than the past ever was  1918-01-01  True            https://www.loc.gov/item/91480056/\n",
      "Mechanical training--Enlist in the Air Service                                                                               1919-01-01  True            https://www.loc.gov/item/2002708933/\n",
      "Every girl pulling for victory - Victory Girls United War Work Campaign                                                      1918-01-01  True            https://www.loc.gov/item/2002719432/\n"
     ]
    }
   ],
   "source": [
    "url = 'https://www.loc.gov/collections/artists-posters/?q=color&dates=1800/1925&fa=location:united+states&fo=json'\n",
    "\n",
    "# Make the JSON request\n",
    "response = requests.get(url)\n",
    "\n",
    "# Read the response as JSON\n",
    "data = response.json()\n",
    "\n",
    "# Get the first 10 results\n",
    "top10 = data['results'][:10]\n",
    "\n",
    "# Print it as a pretty table\n",
    "properties = [\"title\", \"date\", \"unrestricted\", \"url\"]\n",
    "rows = []\n",
    "for result in top10:\n",
    "    row = []\n",
    "    for prop in properties:\n",
    "        value = result[prop] if prop in result else \"<blank>\"\n",
    "        row.append(value)\n",
    "    rows.append(row)\n",
    "print(tabulate(rows, headers=properties))\n"
   ]
  }
 ],
 "metadata": {
  "kernelspec": {
   "display_name": "Python 3",
   "language": "python",
   "name": "python3"
  },
  "language_info": {
   "codemirror_mode": {
    "name": "ipython",
    "version": 3
   },
   "file_extension": ".py",
   "mimetype": "text/x-python",
   "name": "python",
   "nbconvert_exporter": "python",
   "pygments_lexer": "ipython3",
   "version": "3.11.3"
  }
 },
 "nbformat": 4,
 "nbformat_minor": 2
}
