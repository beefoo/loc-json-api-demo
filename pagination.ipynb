{
 "cells": [
  {
   "cell_type": "markdown",
   "metadata": {},
   "source": [
    "# Search pagination\n",
    "\n",
    "Next let's retrieve all the results from this query and keep track of all the dates for each result. Since there are many results, we must use pagination to retrieve all the data.\n",
    "\n",
    "We start again with importing required Python libraries:"
   ]
  },
  {
   "cell_type": "code",
   "execution_count": 1,
   "metadata": {},
   "outputs": [],
   "source": [
    "import matplotlib.pyplot as plt # for displaying data\n",
    "import requests                 # for making http requests\n",
    "import time                     # for pausing between requests"
   ]
  },
  {
   "cell_type": "markdown",
   "metadata": {},
   "source": [
    "## Paginate and visualize results\n",
    "\n",
    "Here we will loop through the pages of search results and keep track of dates"
   ]
  },
  {
   "cell_type": "code",
   "execution_count": 2,
   "metadata": {},
   "outputs": [
    {
     "name": "stdout",
     "output_type": "stream",
     "text": [
      "Retrieved 150 from page 1.\n",
      "Retrieved 150 from page 2.\n",
      "Retrieved 101 from page 3.\n"
     ]
    }
   ],
   "source": [
    "# We start with the same url from the previous book\n",
    "url = 'https://www.loc.gov/collections/artists-posters/?q=color&dates=1800/1925&fa=location:united+states&fo=json'\n",
    "\n",
    "# In order to perform less requests, we can increase the number of results per page (from the default 25)\n",
    "results_per_page = 150\n",
    "\n",
    "# Loop through all the pages until there is no more pages\n",
    "has_more = True\n",
    "next_url = f'{url}&c={results_per_page}'\n",
    "dates = []\n",
    "page = 1\n",
    "while next_url is not None:\n",
    "\n",
    "    # Make the JSON request\n",
    "    response = requests.get(next_url)\n",
    "\n",
    "    # Read the response as JSON\n",
    "    data = response.json()\n",
    "\n",
    "    # Read pagination and results\n",
    "    pagination = data['pagination']\n",
    "    results = data['results']\n",
    "    print(f'Retrieved {len(results)} results from page {page}.')\n",
    "\n",
    "    # Keep track of all the dates\n",
    "    dates += [r['date'] for r in results if 'date' in r]\n",
    "\n",
    "    # Check to see if there are more pages\n",
    "    if 'next' in pagination and pagination['next'] and isinstance(pagination['next'], str) and len(pagination['next']) > 0:\n",
    "        next_url = pagination['next']\n",
    "        page += 1\n",
    "        # Wait one second between each request to avoid rate-limiting\n",
    "        time.sleep(1)\n",
    "    else:\n",
    "        next_url = None\n",
    "    "
   ]
  },
  {
   "cell_type": "markdown",
   "metadata": {},
   "source": [
    "Finally, we will display all the dates in a simple chart using matplotlib."
   ]
  },
  {
   "cell_type": "code",
   "execution_count": 3,
   "metadata": {},
   "outputs": [
    {
     "data": {
      "image/png": "[encoded data removed]",
      "text/plain": [
       "<Figure size 640x480 with 1 Axes>"
      ]
     },
     "metadata": {},
     "output_type": "display_data"
    }
   ],
   "source": [
    "# Parse all the years from the dates\n",
    "yearMap = {}\n",
    "for date in dates:\n",
    "    date_string = str(date)\n",
    "\n",
    "    # Less than 4 chars, so not enough for a year\n",
    "    if len(date_string) < 4:\n",
    "        continue\n",
    "    \n",
    "    # Assume the first 4 chars is the year\n",
    "    year_string = date_string[:4]\n",
    "\n",
    "    # keep track of counts\n",
    "    if year_string in yearMap:\n",
    "        yearMap[year_string] += 1\n",
    "    else:\n",
    "        yearMap[year_string] = 1\n",
    "\n",
    "# Convert to list\n",
    "yearData = sorted([(int(year), yearMap[year]) for year in yearMap])\n",
    "\n",
    "# X-axis values \n",
    "x = [d[0] for d in yearData]\n",
    " \n",
    "# Y-axis values \n",
    "y = [d[1] for d in yearData]\n",
    " \n",
    "# Plot and show\n",
    "plt.bar(x, y) \n",
    "plt.show()"
   ]
  }
 ],
 "metadata": {
  "kernelspec": {
   "display_name": "Python 3",
   "language": "python",
   "name": "python3"
  },
  "language_info": {
   "codemirror_mode": {
    "name": "ipython",
    "version": 3
   },
   "file_extension": ".py",
   "mimetype": "text/x-python",
   "name": "python",
   "nbconvert_exporter": "python",
   "pygments_lexer": "ipython3",
   "version": "3.11.3"
  },
  "widgets": {
   "application/vnd.jupyter.widget-state+json": {
    "state": {},
    "version_major": 2,
    "version_minor": 0
   }
  }
 },
 "nbformat": 4,
 "nbformat_minor": 4
}
